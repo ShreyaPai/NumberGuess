{
 "cells": [
  {
   "cell_type": "code",
   "execution_count": null,
   "metadata": {},
   "outputs": [],
   "source": [
    "import random\n",
    "playAgain = \"y\"\n",
    "\n",
    "def guessNumber():\n",
    "    inputs=0\n",
    "    number=random.randint(1,25)\n",
    "\n",
    "    while inputs < 3:\n",
    "        print(\"Hey, guess a number between 1 and 25!\")\n",
    "        userInput=input()\n",
    "        userInput=int(userInput)\n",
    "        inputs=inputs+1\n",
    "        if(userInput>=1 and userInput<=25):\n",
    "            if userInput < number:\n",
    "                print(\"No, Number too low!!\")\n",
    "            if userInput > number:\n",
    "                print(\"No, Number too high\")\n",
    "            if userInput == number:\n",
    "                break; \n",
    "        else:\n",
    "            print(\"---Number out of range!!---\")\n",
    "            \n",
    "    if userInput == number:\n",
    "            number=str(number)\n",
    "            print(\"Correct guess, the number is \" +number)\n",
    "\n",
    "    if userInput != number:\n",
    "            number=str(number)\n",
    "            print(\"The number was \"+number) \n",
    "guessNumber()\n",
    "\n",
    "while playAgain == 'y':\n",
    "    print(\"Do you want to play again? y or n\")\n",
    "    playAgain=input()\n",
    "    playAgain=str(playAgain)\n",
    "    if playAgain == 'y':\n",
    "        guessNumber()\n",
    "    if playAgain == 'n':\n",
    "        exit\n"
   ]
  }
 ],
 "metadata": {
  "kernelspec": {
   "display_name": "Python 3",
   "language": "python",
   "name": "python3"
  },
  "language_info": {
   "codemirror_mode": {
    "name": "ipython",
    "version": 3
   },
   "file_extension": ".py",
   "mimetype": "text/x-python",
   "name": "python",
   "nbconvert_exporter": "python",
   "pygments_lexer": "ipython3",
   "version": "3.6.8"
  }
 },
 "nbformat": 4,
 "nbformat_minor": 2
}
